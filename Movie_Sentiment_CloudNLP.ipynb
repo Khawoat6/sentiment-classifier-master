{
 "cells": [
  {
   "cell_type": "markdown",
   "metadata": {},
   "source": [
    "### Movie Review Sentiment Analysis Using Google Cloud NLP API\n",
    "We use Google Cloud NLP API [https://cloud.google.com/natural-language/docs] to perform sentiment analysis"
   ]
  },
  {
   "cell_type": "markdown",
   "metadata": {},
   "source": [
    "#### Import statements"
   ]
  },
  {
   "cell_type": "code",
   "execution_count": 1,
   "metadata": {
    "collapsed": true
   },
   "outputs": [],
   "source": [
    "import os\n",
    "\n",
    "from time import time"
   ]
  },
  {
   "cell_type": "markdown",
   "metadata": {},
   "source": [
    "#### Data read"
   ]
  },
  {
   "cell_type": "code",
   "execution_count": 2,
   "metadata": {
    "collapsed": false
   },
   "outputs": [],
   "source": [
    "# Folder with movie review files\n",
    "data_dir = \"/Users/i337036/Documents/Data/review_polarity/txt_sentoken\"\n",
    "# Class names for classification\n",
    "classes = ['pos', 'neg']\n",
    "\n",
    "# Read the data from the path\n",
    "train_data = []\n",
    "train_labels = []\n",
    "test_data = []\n",
    "test_labels = []\n",
    "for curr_class in classes:\n",
    "    dirname = os.path.join(data_dir, curr_class)\n",
    "    for fname in os.listdir(dirname):\n",
    "        with open(os.path.join(dirname, fname), 'r') as f:\n",
    "            content = f.read()\n",
    "            # File names are of the form cvxxx_xxxxx.txt\n",
    "            # Use files that start with the cv9xx_xxxxx.txt for test\n",
    "            if fname.startswith('cv9'):\n",
    "                test_data.append(content)\n",
    "                test_labels.append(curr_class)\n",
    "            else:\n",
    "                train_data.append(content)\n",
    "                train_labels.append(curr_class)"
   ]
  },
  {
   "cell_type": "code",
   "execution_count": 3,
   "metadata": {
    "collapsed": false
   },
   "outputs": [
    {
     "name": "stdout",
     "output_type": "stream",
     "text": [
      "************************************************************\n",
      "# of train data samples:\t1800\n",
      "# of test  data samples:\t200\n",
      "************************************************************\n",
      "Train review: [in recent years , harrison ford has been such a grave screen presence , scowling through the likes o] with sentiment: [pos]\n",
      "Test review: [the most interesting part of \" can't hardly wait \" just happens to be not only the most human , but ] with sentiment: [neg]\n"
     ]
    }
   ],
   "source": [
    "# Let's see how many samples are available and view some data\n",
    "print(\"**\" * 30)\n",
    "print(\"# of train data samples:\\t%d\\n# of test  data samples:\\t%d\" % \n",
    "      (len(train_data), len(test_data)))\n",
    "print(\"**\" * 30)\n",
    "\n",
    "idx = 150 # Some random index between 0, 199\n",
    "print(\"Train review: [%s] with sentiment: [%s]\" % (train_data[idx][:100], train_labels[idx]))\n",
    "print(\"Test review: [%s] with sentiment: [%s]\" % (test_data[idx][:100], test_labels[idx]))"
   ]
  },
  {
   "cell_type": "markdown",
   "metadata": {},
   "source": [
    "#### Import Google Cloud NLP"
   ]
  },
  {
   "cell_type": "code",
   "execution_count": 4,
   "metadata": {
    "collapsed": false
   },
   "outputs": [],
   "source": [
    "from google.cloud import language"
   ]
  },
  {
   "cell_type": "code",
   "execution_count": 5,
   "metadata": {
    "collapsed": false
   },
   "outputs": [],
   "source": [
    "lang_client = language.Client()"
   ]
  },
  {
   "cell_type": "markdown",
   "metadata": {},
   "source": [
    "#### Test a sentence for sentiment tags"
   ]
  },
  {
   "cell_type": "code",
   "execution_count": 6,
   "metadata": {
    "collapsed": false
   },
   "outputs": [
    {
     "data": {
      "text/plain": [
       "['SCOPE',\n",
       " '__class__',\n",
       " '__delattr__',\n",
       " '__dict__',\n",
       " '__dir__',\n",
       " '__doc__',\n",
       " '__eq__',\n",
       " '__format__',\n",
       " '__ge__',\n",
       " '__getattribute__',\n",
       " '__getstate__',\n",
       " '__gt__',\n",
       " '__hash__',\n",
       " '__init__',\n",
       " '__le__',\n",
       " '__lt__',\n",
       " '__module__',\n",
       " '__ne__',\n",
       " '__new__',\n",
       " '__reduce__',\n",
       " '__reduce_ex__',\n",
       " '__repr__',\n",
       " '__setattr__',\n",
       " '__sizeof__',\n",
       " '__str__',\n",
       " '__subclasshook__',\n",
       " '__weakref__',\n",
       " '_connection',\n",
       " '_credentials',\n",
       " '_http',\n",
       " '_http_internal',\n",
       " 'document_from_gcs_url',\n",
       " 'document_from_html',\n",
       " 'document_from_text',\n",
       " 'document_from_url',\n",
       " 'from_service_account_json']"
      ]
     },
     "execution_count": 6,
     "metadata": {},
     "output_type": "execute_result"
    }
   ],
   "source": [
    "dir(lang_client)"
   ]
  },
  {
   "cell_type": "code",
   "execution_count": 14,
   "metadata": {
    "collapsed": false
   },
   "outputs": [
    {
     "data": {
      "text/plain": [
       "['HTML',\n",
       " 'PLAIN_TEXT',\n",
       " 'TYPE_UNSPECIFIED',\n",
       " '__class__',\n",
       " '__delattr__',\n",
       " '__dict__',\n",
       " '__dir__',\n",
       " '__doc__',\n",
       " '__eq__',\n",
       " '__format__',\n",
       " '__ge__',\n",
       " '__getattribute__',\n",
       " '__gt__',\n",
       " '__hash__',\n",
       " '__init__',\n",
       " '__le__',\n",
       " '__lt__',\n",
       " '__module__',\n",
       " '__ne__',\n",
       " '__new__',\n",
       " '__reduce__',\n",
       " '__reduce_ex__',\n",
       " '__repr__',\n",
       " '__setattr__',\n",
       " '__sizeof__',\n",
       " '__str__',\n",
       " '__subclasshook__',\n",
       " '__weakref__',\n",
       " '_to_dict',\n",
       " 'analyze_entities',\n",
       " 'analyze_sentiment',\n",
       " 'analyze_syntax',\n",
       " 'annotate_text',\n",
       " 'client',\n",
       " 'content',\n",
       " 'doc_type',\n",
       " 'encoding',\n",
       " 'gcs_url',\n",
       " 'language']"
      ]
     },
     "execution_count": 14,
     "metadata": {},
     "output_type": "execute_result"
    }
   ],
   "source": [
    "doc = lang_client.document_from_text(train_data[idx])\n",
    "dir(doc)"
   ]
  },
  {
   "cell_type": "code",
   "execution_count": 15,
   "metadata": {
    "collapsed": false
   },
   "outputs": [],
   "source": [
    "annotate = doc.annotate_text(include_sentiment=True, include_syntax=False, include_entities=False)"
   ]
  },
  {
   "cell_type": "code",
   "execution_count": 12,
   "metadata": {
    "collapsed": true
   },
   "outputs": [],
   "source": [
    "def print_result(annotations):\n",
    "    score = annotations.sentiment.score\n",
    "    magnitude = annotations.sentiment.magnitude\n",
    "\n",
    "    for index, sentence in enumerate(annotations.sentences):\n",
    "        sentence_sentiment = sentence.sentiment.score\n",
    "        print('Sentence {} has a sentiment score of {}'.format(index, sentence_sentiment))\n",
    "\n",
    "    print('Overall Sentiment: score of {} with magnitude of {}'.format(score, magnitude))"
   ]
  },
  {
   "cell_type": "code",
   "execution_count": 16,
   "metadata": {
    "collapsed": false
   },
   "outputs": [
    {
     "name": "stdout",
     "output_type": "stream",
     "text": [
      "Sentence 0 has a sentiment score of -0.2\n",
      "Sentence 1 has a sentiment score of 0.1\n",
      "Sentence 2 has a sentiment score of -0.4\n",
      "Sentence 3 has a sentiment score of -0.8\n",
      "Sentence 4 has a sentiment score of 0.6\n",
      "Sentence 5 has a sentiment score of -0.4\n",
      "Sentence 6 has a sentiment score of -0.2\n",
      "Sentence 7 has a sentiment score of -0.3\n",
      "Sentence 8 has a sentiment score of 0.8\n",
      "Sentence 9 has a sentiment score of 0.5\n",
      "Sentence 10 has a sentiment score of 0.8\n",
      "Sentence 11 has a sentiment score of 0.4\n",
      "Sentence 12 has a sentiment score of -0.9\n",
      "Sentence 13 has a sentiment score of 0\n",
      "Sentence 14 has a sentiment score of 0\n",
      "Overall Sentiment: score of 0 with magnitude of 7.2\n"
     ]
    },
    {
     "data": {
      "text/plain": [
       "0"
      ]
     },
     "execution_count": 16,
     "metadata": {},
     "output_type": "execute_result"
    }
   ],
   "source": [
    "print_result(annotate)"
   ]
  },
  {
   "cell_type": "code",
   "execution_count": null,
   "metadata": {
    "collapsed": true
   },
   "outputs": [],
   "source": []
  }
 ],
 "metadata": {
  "anaconda-cloud": {},
  "kernelspec": {
   "display_name": "Python [conda root]",
   "language": "python",
   "name": "conda-root-py"
  },
  "language_info": {
   "codemirror_mode": {
    "name": "ipython",
    "version": 3
   },
   "file_extension": ".py",
   "mimetype": "text/x-python",
   "name": "python",
   "nbconvert_exporter": "python",
   "pygments_lexer": "ipython3",
   "version": "3.5.3"
  }
 },
 "nbformat": 4,
 "nbformat_minor": 0
}
