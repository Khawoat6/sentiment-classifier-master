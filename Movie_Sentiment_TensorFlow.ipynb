{
 "cells": [
  {
   "cell_type": "markdown",
   "metadata": {},
   "source": [
    "### Movie Review Sentiment Analysis Using TensorFlow \n",
    "We use term frequency-inverse document frequency (TF-IDF) to weigh words and build a vocabulary for use as a vector. TensorFlow is used to develop a one-layer NN for quick training."
   ]
  },
  {
   "cell_type": "markdown",
   "metadata": {},
   "source": [
    "#### Import statements"
   ]
  },
  {
   "cell_type": "code",
   "execution_count": 1,
   "metadata": {
    "collapsed": true
   },
   "outputs": [],
   "source": [
    "import tensorflow as tf\n",
    "import matplotlib.pyplot as plt\n",
    "import numpy as np\n",
    "import os\n",
    "import string\n",
    "import nltk\n",
    "from sklearn.feature_extraction.text import TfidfVectorizer\n",
    "from tensorflow.python.framework import ops\n",
    "from time import time\n",
    "ops.reset_default_graph()"
   ]
  },
  {
   "cell_type": "code",
   "execution_count": 2,
   "metadata": {
    "collapsed": true
   },
   "outputs": [],
   "source": [
    "batch_size = 500  # 200\n",
    "max_features = 2000  # 1000"
   ]
  },
  {
   "cell_type": "code",
   "execution_count": null,
   "metadata": {
    "collapsed": false,
    "scrolled": true
   },
   "outputs": [],
   "source": [
    "file = open('/Users/<>/Documents/Data/smsspamcollection/SMSSpamCollection', \n",
    "            encoding=\"utf-8\")\n",
    "# Format Data\n",
    "text_data = file.read().split('\\n')\n",
    "text_data = [x.split('\\t') for x in text_data if len(x)>=1]\n",
    "\n",
    "\"\"\"\n",
    "import csv\n",
    "save_file_name = '/Users/<>/Documents/Data/smsspamcollection/temp_spam_data.csv'\n",
    "# And write to csv\n",
    "with open(save_file_name, 'w', encoding=\"utf-8\") as temp_output_file:\n",
    "    writer = csv.writer(temp_output_file)\n",
    "    writer.writerows(text_data)\n",
    "\"\"\""
   ]
  },
  {
   "cell_type": "markdown",
   "metadata": {},
   "source": [
    "#### Data read"
   ]
  },
  {
   "cell_type": "code",
   "execution_count": 4,
   "metadata": {
    "collapsed": false
   },
   "outputs": [],
   "source": [
    "texts = [x[1] for x in text_data]\n",
    "target = [x[0] for x in text_data]\n",
    "\n",
    "# Relabel 'spam' as 1, 'ham' as 0\n",
    "target = [1. if x=='spam' else 0. for x in target]\n",
    "\n",
    "# Normalize text\n",
    "# Lower case\n",
    "texts = [x.lower() for x in texts]\n",
    "\n",
    "# Remove punctuation\n",
    "texts = [''.join(c for c in x if c not in string.punctuation) for x in texts]\n",
    "\n",
    "# Remove numbers\n",
    "texts = [''.join(c for c in x if c not in '0123456789') for x in texts]\n",
    "\n",
    "# Trim extra whitespace\n",
    "texts = [' '.join(x.split()) for x in texts]"
   ]
  },
  {
   "cell_type": "code",
   "execution_count": 5,
   "metadata": {
    "collapsed": true
   },
   "outputs": [],
   "source": [
    "def tokenizer(text):\n",
    "    words = nltk.word_tokenize(text)\n",
    "    return words\n",
    "\n",
    "# Create TF-IDF of texts\n",
    "tfidf = TfidfVectorizer(tokenizer=tokenizer, stop_words='english', max_features=max_features)\n",
    "sparse_tfidf_texts = tfidf.fit_transform(texts)"
   ]
  },
  {
   "cell_type": "code",
   "execution_count": 6,
   "metadata": {
    "collapsed": true
   },
   "outputs": [],
   "source": [
    "train_indices = np.random.choice(sparse_tfidf_texts.shape[0], \n",
    "                                 round(0.8*sparse_tfidf_texts.shape[0]), replace=False)\n",
    "test_indices = np.array(list(set(range(sparse_tfidf_texts.shape[0])) - set(train_indices)))\n",
    "texts_train = sparse_tfidf_texts[train_indices]\n",
    "texts_test = sparse_tfidf_texts[test_indices]\n",
    "target_train = np.array([x for ix, x in enumerate(target) if ix in train_indices])\n",
    "target_test = np.array([x for ix, x in enumerate(target) if ix in test_indices])"
   ]
  },
  {
   "cell_type": "code",
   "execution_count": 7,
   "metadata": {
    "collapsed": true
   },
   "outputs": [],
   "source": [
    "# Create variables for logistic regression\n",
    "A = tf.Variable(tf.random_normal(shape=[max_features,1]))\n",
    "b = tf.Variable(tf.random_normal(shape=[1,1]))\n",
    "\n",
    "# Initialize placeholders\n",
    "x_data = tf.placeholder(shape=[None, max_features], dtype=tf.float32)\n",
    "y_target = tf.placeholder(shape=[None, 1], dtype=tf.float32)\n",
    "\n",
    "# Declare logistic model (sigmoid in loss function)\n",
    "model_output = tf.add(tf.matmul(x_data, A), b)"
   ]
  },
  {
   "cell_type": "code",
   "execution_count": 8,
   "metadata": {
    "collapsed": false
   },
   "outputs": [],
   "source": [
    "# Declare loss function (Cross Entropy loss)\n",
    "loss = tf.reduce_mean(tf.nn.sigmoid_cross_entropy_with_logits(logits=model_output, \n",
    "                                                              labels=y_target))\n",
    "\n",
    "# Prediction\n",
    "prediction = tf.round(tf.sigmoid(model_output))\n",
    "predictions_correct = tf.cast(tf.equal(prediction, y_target), tf.float32)\n",
    "accuracy = tf.reduce_mean(predictions_correct)"
   ]
  },
  {
   "cell_type": "code",
   "execution_count": 9,
   "metadata": {
    "collapsed": true
   },
   "outputs": [],
   "source": [
    "# Declare optimizer\n",
    "my_opt = tf.train.GradientDescentOptimizer(0.0025)\n",
    "train_step = my_opt.minimize(loss)\n",
    "\n",
    "# Intitialize Variables\n",
    "init = tf.global_variables_initializer()\n",
    "sess = tf.Session()\n",
    "sess.run(init)"
   ]
  },
  {
   "cell_type": "code",
   "execution_count": 10,
   "metadata": {
    "collapsed": false
   },
   "outputs": [
    {
     "name": "stdout",
     "output_type": "stream",
     "text": [
      "Iteration # 500. Train Loss (Test Loss): 0.82 (0.84). Train Acc (Test Acc): 0.47 (0.47)\n",
      "Iteration # 1000. Train Loss (Test Loss): 0.66 (0.70). Train Acc (Test Acc): 0.61 (0.60)\n",
      "Iteration # 1500. Train Loss (Test Loss): 0.56 (0.61). Train Acc (Test Acc): 0.71 (0.68)\n",
      "Iteration # 2000. Train Loss (Test Loss): 0.57 (0.56). Train Acc (Test Acc): 0.73 (0.74)\n",
      "Iteration # 2500. Train Loss (Test Loss): 0.52 (0.52). Train Acc (Test Acc): 0.77 (0.78)\n",
      "Iteration # 3000. Train Loss (Test Loss): 0.51 (0.50). Train Acc (Test Acc): 0.79 (0.80)\n",
      "Iteration # 3500. Train Loss (Test Loss): 0.50 (0.48). Train Acc (Test Acc): 0.79 (0.81)\n",
      "Iteration # 4000. Train Loss (Test Loss): 0.55 (0.47). Train Acc (Test Acc): 0.80 (0.83)\n",
      "Iteration # 4500. Train Loss (Test Loss): 0.45 (0.47). Train Acc (Test Acc): 0.85 (0.83)\n",
      "Iteration # 5000. Train Loss (Test Loss): 0.45 (0.46). Train Acc (Test Acc): 0.84 (0.84)\n",
      "Iteration # 5500. Train Loss (Test Loss): 0.50 (0.46). Train Acc (Test Acc): 0.81 (0.84)\n",
      "Iteration # 6000. Train Loss (Test Loss): 0.41 (0.45). Train Acc (Test Acc): 0.87 (0.85)\n",
      "Iteration # 6500. Train Loss (Test Loss): 0.50 (0.45). Train Acc (Test Acc): 0.83 (0.85)\n",
      "Iteration # 7000. Train Loss (Test Loss): 0.50 (0.45). Train Acc (Test Acc): 0.82 (0.85)\n",
      "Iteration # 7500. Train Loss (Test Loss): 0.40 (0.45). Train Acc (Test Acc): 0.87 (0.86)\n",
      "Iteration # 8000. Train Loss (Test Loss): 0.42 (0.45). Train Acc (Test Acc): 0.87 (0.86)\n",
      "Iteration # 8500. Train Loss (Test Loss): 0.43 (0.45). Train Acc (Test Acc): 0.86 (0.86)\n",
      "Iteration # 9000. Train Loss (Test Loss): 0.45 (0.45). Train Acc (Test Acc): 0.85 (0.86)\n",
      "Iteration # 9500. Train Loss (Test Loss): 0.42 (0.45). Train Acc (Test Acc): 0.87 (0.86)\n",
      "Iteration # 10000. Train Loss (Test Loss): 0.48 (0.44). Train Acc (Test Acc): 0.84 (0.86)\n",
      "Iterations took 52.271 secs\n"
     ]
    }
   ],
   "source": [
    "train_loss = []\n",
    "test_loss = []\n",
    "train_acc = []\n",
    "test_acc = []\n",
    "i_data = []\n",
    "t1 = time()\n",
    "for i in range(10000):\n",
    "    rand_index = np.random.choice(texts_train.shape[0], size=batch_size)\n",
    "    rand_x = texts_train[rand_index].todense()\n",
    "    rand_y = np.transpose([target_train[rand_index]])\n",
    "    sess.run(train_step, feed_dict={x_data: rand_x, y_target: rand_y})\n",
    "    \n",
    "    # Only record loss and accuracy every 100 generations\n",
    "    if (i+1)%100==0:\n",
    "        i_data.append(i+1)\n",
    "        train_loss_temp = sess.run(loss, feed_dict={x_data: rand_x, y_target: rand_y})\n",
    "        train_loss.append(train_loss_temp)\n",
    "        \n",
    "        test_loss_temp = sess.run(loss, feed_dict={x_data: texts_test.todense(), \n",
    "                                                   y_target: np.transpose([target_test])})\n",
    "        test_loss.append(test_loss_temp)\n",
    "        \n",
    "        train_acc_temp = sess.run(accuracy, feed_dict={x_data: rand_x, y_target: rand_y})\n",
    "        train_acc.append(train_acc_temp)\n",
    "    \n",
    "        test_acc_temp = sess.run(accuracy, feed_dict={x_data: texts_test.todense(), \n",
    "                                                      y_target: np.transpose([target_test])})\n",
    "        test_acc.append(test_acc_temp)\n",
    "        \n",
    "    if (i+1)%500==0:\n",
    "        acc_and_loss = [i+1, train_loss_temp, test_loss_temp, train_acc_temp, test_acc_temp]\n",
    "        acc_and_loss = [np.round(x,2) for x in acc_and_loss]\n",
    "        print('Iteration # {}. Train Loss (Test Loss): {:.2f} ({:.2f}). Train Acc (Test Acc): {:.2f} ({:.2f})'.format(*acc_and_loss))\n",
    "\n",
    "print(\"Iterations took %.3f secs\" % (time() - t1))"
   ]
  },
  {
   "cell_type": "code",
   "execution_count": 11,
   "metadata": {
    "collapsed": false
   },
   "outputs": [
    {
     "data": {
      "image/png": "[encoded data removed]",
      "text/plain": [
       "<matplotlib.figure.Figure at 0x11d0ca128>"
      ]
     },
     "metadata": {},
     "output_type": "display_data"
    },
    {
     "data": {
      "image/png": "[encoded data removed]",
      "text/plain": [
       "<matplotlib.figure.Figure at 0x120f12e80>"
      ]
     },
     "metadata": {},
     "output_type": "display_data"
    }
   ],
   "source": [
    "# Plot loss over time\n",
    "plt.plot(i_data, train_loss, 'b-', label='Train Loss')\n",
    "plt.plot(i_data, test_loss, 'g--', label='Test Loss', linewidth=4)\n",
    "plt.title('Cross Entropy Loss per Generation')\n",
    "plt.xlabel('Iteration')\n",
    "plt.ylabel('Cross Entropy Loss')\n",
    "plt.legend(loc='upper right')\n",
    "plt.show()\n",
    "\n",
    "# Plot train and test accuracy\n",
    "plt.plot(i_data, train_acc, 'b-', label='Train Set Accuracy')\n",
    "plt.plot(i_data, test_acc, 'g--', label='Test Set Accuracy', linewidth=4)\n",
    "plt.title('Train and Test Accuracy')\n",
    "plt.xlabel('Iteration')\n",
    "plt.ylabel('Accuracy')\n",
    "plt.legend(loc='lower right')\n",
    "plt.show()"
   ]
  }
 ],
 "metadata": {
  "anaconda-cloud": {},
  "kernelspec": {
   "display_name": "Python [conda root]",
   "language": "python",
   "name": "conda-root-py"
  },
  "language_info": {
   "codemirror_mode": {
    "name": "ipython",
    "version": 3
   },
   "file_extension": ".py",
   "mimetype": "text/x-python",
   "name": "python",
   "nbconvert_exporter": "python",
   "pygments_lexer": "ipython3",
   "version": "3.5.3"
  }
 },
 "nbformat": 4,
 "nbformat_minor": 0
}
